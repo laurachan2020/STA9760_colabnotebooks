{
  "nbformat": 4,
  "nbformat_minor": 0,
  "metadata": {
    "colab": {
      "name": "STA9760_introduction.ipynb",
      "provenance": [],
      "authorship_tag": "ABX9TyO8GVFrK5onL9iwOJ30Pk13",
      "include_colab_link": true
    },
    "kernelspec": {
      "name": "python3",
      "display_name": "Python 3"
    }
  },
  "cells": [
    {
      "cell_type": "markdown",
      "metadata": {
        "id": "view-in-github",
        "colab_type": "text"
      },
      "source": [
        "<a href=\"https://colab.research.google.com/github/laurachan2020/STA9760_colabnotebooks/blob/master/STA9760_introduction.ipynb\" target=\"_parent\"><img src=\"https://colab.research.google.com/assets/colab-badge.svg\" alt=\"Open In Colab\"/></a>"
      ]
    },
    {
      "cell_type": "markdown",
      "metadata": {
        "id": "T2Z4c6hoouq5",
        "colab_type": "text"
      },
      "source": [
        "# Simple implemntation of Requests Moduels\n",
        "\n",
        "In the code example below, we will run and display output data from an API call to Github.\n"
      ]
    },
    {
      "cell_type": "code",
      "metadata": {
        "id": "3jWz7RUB0kli",
        "colab_type": "code",
        "colab": {}
      },
      "source": [
        "import requests\n",
        "\n",
        "# this is a \"get\" request - try pasting into your browser URL\n",
        "r = requests.get('https://api.github.com/users/mottaquikarim')"
      ],
      "execution_count": 0,
      "outputs": []
    },
    {
      "cell_type": "markdown",
      "metadata": {
        "id": "w-KmcK2SzoMS",
        "colab_type": "text"
      },
      "source": [
        "#This is the status cod, 200 means 'successsful'"
      ]
    },
    {
      "cell_type": "code",
      "metadata": {
        "id": "T5jaqDrxzvmS",
        "colab_type": "code",
        "colab": {
          "base_uri": "https://localhost:8080/",
          "height": 34
        },
        "outputId": "fa37237e-3a62-4a88-fc5a-20bdbbba4387"
      },
      "source": [
        "r.status_code"
      ],
      "execution_count": 4,
      "outputs": [
        {
          "output_type": "stream",
          "text": [
            "200\n"
          ],
          "name": "stdout"
        }
      ]
    },
    {
      "cell_type": "markdown",
      "metadata": {
        "id": "DLkvtj7Jz2_U",
        "colab_type": "text"
      },
      "source": [
        "# this is a hint for what type of content we expect to get back\n",
        "# application/json implies it is encoded as a data structure"
      ]
    },
    {
      "cell_type": "code",
      "metadata": {
        "id": "mGIsFcXu0Byv",
        "colab_type": "code",
        "colab": {
          "base_uri": "https://localhost:8080/",
          "height": 34
        },
        "outputId": "8d3139f5-8ab3-4934-9416-c07226a137c4"
      },
      "source": [
        "r.headers['content-type']"
      ],
      "execution_count": 10,
      "outputs": [
        {
          "output_type": "execute_result",
          "data": {
            "text/plain": [
              "'application/json; charset=utf-8'"
            ]
          },
          "metadata": {
            "tags": []
          },
          "execution_count": 10
        }
      ]
    },
    {
      "cell_type": "markdown",
      "metadata": {
        "id": "Jpa3riaZ0FOT",
        "colab_type": "text"
      },
      "source": [
        "# The actual response"
      ]
    },
    {
      "cell_type": "code",
      "metadata": {
        "id": "4BfHxOSl0IgL",
        "colab_type": "code",
        "colab": {
          "base_uri": "https://localhost:8080/",
          "height": 554
        },
        "outputId": "2e897e5c-a224-4049-d4ee-298b014c289b"
      },
      "source": [
        "r.json()"
      ],
      "execution_count": 8,
      "outputs": [
        {
          "output_type": "execute_result",
          "data": {
            "text/plain": [
              "{'avatar_url': 'https://avatars1.githubusercontent.com/u/3136020?v=4',\n",
              " 'bio': '\"See a Need, Fill a Need!\" -- in a nutshell, really.',\n",
              " 'blog': 'http://mottaquikar.im/',\n",
              " 'company': 'IxN, GA, TKC',\n",
              " 'created_at': '2012-12-27T17:58:26Z',\n",
              " 'email': None,\n",
              " 'events_url': 'https://api.github.com/users/mottaquikarim/events{/privacy}',\n",
              " 'followers': 130,\n",
              " 'followers_url': 'https://api.github.com/users/mottaquikarim/followers',\n",
              " 'following': 16,\n",
              " 'following_url': 'https://api.github.com/users/mottaquikarim/following{/other_user}',\n",
              " 'gists_url': 'https://api.github.com/users/mottaquikarim/gists{/gist_id}',\n",
              " 'gravatar_id': '',\n",
              " 'hireable': None,\n",
              " 'html_url': 'https://github.com/mottaquikarim',\n",
              " 'id': 3136020,\n",
              " 'location': 'NYC',\n",
              " 'login': 'mottaquikarim',\n",
              " 'name': 'Mottaqui Karim',\n",
              " 'node_id': 'MDQ6VXNlcjMxMzYwMjA=',\n",
              " 'organizations_url': 'https://api.github.com/users/mottaquikarim/orgs',\n",
              " 'public_gists': 19,\n",
              " 'public_repos': 292,\n",
              " 'received_events_url': 'https://api.github.com/users/mottaquikarim/received_events',\n",
              " 'repos_url': 'https://api.github.com/users/mottaquikarim/repos',\n",
              " 'site_admin': False,\n",
              " 'starred_url': 'https://api.github.com/users/mottaquikarim/starred{/owner}{/repo}',\n",
              " 'subscriptions_url': 'https://api.github.com/users/mottaquikarim/subscriptions',\n",
              " 'type': 'User',\n",
              " 'updated_at': '2020-03-29T15:03:51Z',\n",
              " 'url': 'https://api.github.com/users/mottaquikarim'}"
            ]
          },
          "metadata": {
            "tags": []
          },
          "execution_count": 8
        }
      ]
    }
  ]
}